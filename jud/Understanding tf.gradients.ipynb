{
 "cells": [
  {
   "cell_type": "code",
   "execution_count": 4,
   "metadata": {},
   "outputs": [
    {
     "name": "stdout",
     "output_type": "stream",
     "text": [
      "1D condition: \n",
      "8.0\n",
      "[12.0]\n",
      "[12.0]\n",
      "[6.0]\n",
      "[0.0]\n",
      "2D condition: \n",
      "[[4]]\n",
      "[array([[2, 1]], dtype=int32)]\n",
      "[[2 1]]\n"
     ]
    }
   ],
   "source": [
    "import tensorflow as tf\n",
    "\n",
    "######################################\n",
    "# 1D condition \n",
    "a = tf.constant(2.)\n",
    "# 2.0^3=8.0\n",
    "b = tf.pow(a, 3)\n",
    "# (a^3)' = 3a^2 = 3*2.0^2 = 12.0 \n",
    "# grad 就是 d(y=x^3)/dx = 3x^2 \n",
    "# 当x=a=2.0时候的取值 \n",
    "grad_1 = tf.gradients(ys=b, xs=a) # 一阶导\n",
    "grad_2 = tf.gradients(ys=grad_1[0], xs=a) # 二阶导\n",
    "grad_3 = tf.gradients(ys=grad_2[0], xs=a) # 三阶导\n",
    "grad_4 = tf.gradients(ys=grad_3[0], xs=a) # 四阶导\n",
    "\n",
    "# 因此tf.gradients() 返回的是一个导数值\n",
    "######################################\n",
    "\n",
    "\n",
    "\n",
    "######################################\n",
    "# 2D condition \n",
    "# w1 = [a1, a2]\n",
    "w1 = tf.Variable([[1,2]])\n",
    "# 1x2 * 2x1 is a number \n",
    "res = tf.matmul(w1, [[2],[1]]) \n",
    "# $helllo$\n",
    "\n",
    "grads = tf.gradients(res, [w1])\n",
    "grads_0 = tf.gradients(res, [w1])[0]\n",
    "######################################\n",
    "\n",
    "\n",
    "\n",
    "\n",
    "\n",
    "init = tf.global_variables_initializer()\n",
    "with tf.Session() as sess:\n",
    "    sess.run(init)  \n",
    "    print(\"1D condition: \")\n",
    "    ###########################\n",
    "    # 2.0^3=8.0\n",
    "    print((sess.run(b)))\n",
    "    # (a^3)' = 3a^2 = 3*2.0^2 = 12.0\n",
    "    print(sess.run(grad_1))\n",
    "    print(sess.run(grad_2))\n",
    "    print(sess.run(grad_3))\n",
    "    print(sess.run(grad_4))\n",
    "    \n",
    "    print(\"2D condition: \")\n",
    "    ###########################\n",
    "    print(sess.run(res))\n",
    "    print(sess.run(grads))\n",
    "    print(sess.run(grads_0))"
   ]
  },
  {
   "cell_type": "code",
   "execution_count": null,
   "metadata": {},
   "outputs": [],
   "source": [
    "\n"
   ]
  }
 ],
 "metadata": {
  "kernelspec": {
   "display_name": "Python(Tf base)",
   "language": "python",
   "name": "base"
  },
  "language_info": {
   "codemirror_mode": {
    "name": "ipython",
    "version": 3
   },
   "file_extension": ".py",
   "mimetype": "text/x-python",
   "name": "python",
   "nbconvert_exporter": "python",
   "pygments_lexer": "ipython3",
   "version": "3.6.4"
  }
 },
 "nbformat": 4,
 "nbformat_minor": 2
}
